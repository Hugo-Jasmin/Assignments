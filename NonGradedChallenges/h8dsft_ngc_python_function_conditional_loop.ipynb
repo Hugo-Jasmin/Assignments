{
 "cells": [
  {
   "cell_type": "markdown",
   "metadata": {},
   "source": [
    "### Task 1\n"
   ]
  },
  {
   "cell_type": "code",
   "execution_count": null,
   "metadata": {},
   "outputs": [],
   "source": [
    "sentencein = input(\"what is your sentence? \")\n",
    "def number_of_word(sentence):\n",
    "    words = sentence.split(' ')\n",
    "    return len(words)\n",
    "\n",
    "print(number_of_word(sentencein))"
   ]
  },
  {
   "cell_type": "markdown",
   "metadata": {},
   "source": [
    "### Task 2\n"
   ]
  },
  {
   "cell_type": "code",
   "execution_count": null,
   "metadata": {},
   "outputs": [],
   "source": [
    "\n",
    "def find_multiple(start_range, end_range, multiple):\n",
    "    multiplearr = []\n",
    "    for i in range(start_range, end_range + 1):\n",
    "        if i%multiple == 0:\n",
    "            multiplearr.append(i)\n",
    "            continue\n",
    "        else:\n",
    "            continue\n",
    "    return multiplearr\n",
    "\n",
    "print(find_multiple(start_range= 1, end_range= 20, multiple= 5))\n",
    "print(find_multiple(start_range= 1, end_range= 50, multiple= 10))\n"
   ]
  },
  {
   "cell_type": "markdown",
   "metadata": {},
   "source": [
    "### Task 3\n",
    "\n"
   ]
  },
  {
   "cell_type": "code",
   "execution_count": null,
   "metadata": {},
   "outputs": [],
   "source": [
    "def Grade_Converter(convert_to, **users):\n",
    "    if convert_to == \"letter_grade\":\n",
    "        letterResults = {}\n",
    "        for user in users:\n",
    "            def getLetter(score):\n",
    "                if score < 40.00 and score >= 0:\n",
    "                    return \"F\"\n",
    "                elif score < 50 and score >= 40:\n",
    "                    return \"E\"\n",
    "                elif score >= 50 and score < 60:\n",
    "                    return \"D\"\n",
    "                elif score >=60 and score < 70:\n",
    "                    return \"C\"\n",
    "                elif score >= 70 and score < 85:\n",
    "                    return \"B\"\n",
    "                elif score >= 85 and score < 100:\n",
    "                    return \"A\"\n",
    "                else:\n",
    "                    return \"Invalid Range\"\n",
    "            studentScore = getLetter(users[user])\n",
    "            letterResults[user] = studentScore\n",
    "        return letterResults\n",
    "    elif convert_to == \"gpa\":\n",
    "        GPAResults = {}\n",
    "        for user in users:\n",
    "            def gpaProcessing(score):\n",
    "                if score < 40.00 and score >= 0:\n",
    "                    return 1\n",
    "                elif score < 50 and score >= 40:\n",
    "                    return 1.5\n",
    "                elif score >= 50 and score < 60:\n",
    "                    return 2\n",
    "                elif score >=60 and score < 70:\n",
    "                    return 2.5\n",
    "                elif score >= 70 and score < 85:\n",
    "                    return 3\n",
    "                elif score >= 85 and score < 100:\n",
    "                    return 4\n",
    "                else:\n",
    "                    return \"Invalid Range\"\n",
    "            studentScore = gpaProcessing(users[user])\n",
    "            GPAResults[user] = studentScore \n",
    "        return GPAResults\n",
    "print(Grade_Converter(convert_to='gpa', Adam=62, Faiz=91))\n",
    "print(Grade_Converter(convert_to='letter_grade', Albert=90, Dwi=82, Syahdan=58, Veronica=84))"
   ]
  },
  {
   "cell_type": "markdown",
   "metadata": {},
   "source": [
    "### Task 4\n"
   ]
  },
  {
   "cell_type": "code",
   "execution_count": null,
   "metadata": {},
   "outputs": [],
   "source": [
    "def Fibbonaci(n):\n",
    "    if n == 0:\n",
    "        return 0\n",
    "    elif n == 1:\n",
    "        return 1\n",
    "    fibonaci_list = [0,1]\n",
    "    x = 2 \n",
    "    while x < n:\n",
    "        numberAdded = fibonaci_list[x-2]+fibonaci_list[x-1]\n",
    "        fibonaci_list.append(numberAdded)\n",
    "        x +=1\n",
    "    print(fibonaci_list)\n",
    "    return(fibonaci_list[n-1])\n",
    "print(Fibbonaci(10))\n"
   ]
  }
 ],
 "metadata": {
  "language_info": {
   "name": "python"
  }
 },
 "nbformat": 4,
 "nbformat_minor": 2
}
