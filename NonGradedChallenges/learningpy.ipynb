{
 "cells": [
  {
   "cell_type": "markdown",
   "metadata": {},
   "source": [
    "### Exception handling"
   ]
  },
  {
   "cell_type": "code",
   "execution_count": null,
   "metadata": {},
   "outputs": [
    {
     "ename": "SyntaxError",
     "evalue": "invalid syntax (832384813.py, line 6)",
     "output_type": "error",
     "traceback": [
      "\u001b[1;36m  Cell \u001b[1;32mIn[5], line 6\u001b[1;36m\u001b[0m\n\u001b[1;33m    finally:\u001b[0m\n\u001b[1;37m    ^\u001b[0m\n\u001b[1;31mSyntaxError\u001b[0m\u001b[1;31m:\u001b[0m invalid syntax\n"
     ]
    }
   ],
   "source": [
    "name = \"davids\"\n",
    "try:\n",
    "    if len(name) > 5:\n",
    "        raise Exception(\"Name greater than 5 characters\")\n",
    "    else:\n",
    "        print(name)\n",
    "except ValueError as e:\n",
    "    raise Exception(\"error has occured\", e)\n",
    "finally:\n",
    "    print(\"Done\")"
   ]
  },
  {
   "cell_type": "markdown",
   "metadata": {},
   "source": [
    "### Unit Test , use in script\n",
    "\n",
    "used to test modules of code"
   ]
  },
  {
   "cell_type": "code",
   "execution_count": null,
   "metadata": {},
   "outputs": [
    {
     "name": "stderr",
     "output_type": "stream",
     "text": [
      "usage: ipykernel_launcher.py [-h] [-v] [-q] [--locals] [--durations N] [-f]\n",
      "                             [-c] [-b] [-k TESTNAMEPATTERNS]\n",
      "                             [tests ...]\n",
      "ipykernel_launcher.py: error: argument -f/--failfast: ignored explicit argument 'c:\\\\Users\\\\hugom\\\\AppData\\\\Roaming\\\\jupyter\\\\runtime\\\\kernel-v3c2ceca2e91a51b129c12d661e72b04e5054a9669.json'\n"
     ]
    },
    {
     "ename": "SystemExit",
     "evalue": "2",
     "output_type": "error",
     "traceback": [
      "An exception has occurred, use %tb to see the full traceback.\n",
      "\u001b[1;31mSystemExit\u001b[0m\u001b[1;31m:\u001b[0m 2\n"
     ]
    },
    {
     "ename": "",
     "evalue": "",
     "output_type": "error",
     "traceback": [
      "\u001b[1;31mThe Kernel crashed while executing code in the current cell or a previous cell. \n",
      "\u001b[1;31mPlease review the code in the cell(s) to identify a possible cause of the failure. \n",
      "\u001b[1;31mClick <a href='https://aka.ms/vscodeJupyterKernelCrash'>here</a> for more info. \n",
      "\u001b[1;31mView Jupyter <a href='command:jupyter.viewOutput'>log</a> for further details."
     ]
    }
   ],
   "source": [
    "import unittest\n",
    "\n",
    "def sayHello(name):\n",
    "    if len(name) > 5:\n",
    "        raise Exception(\"Name greater than 5 characters\")\n",
    "    else:\n",
    "        return name\n",
    "class testAplikasi(unittest.TestCase):\n",
    "    def test_sayHello_success(self):\n",
    "        result = sayHello(\"Gallay\")\n",
    "        expectation = \"Gallay\"\n",
    "# result = first, second = expectation\n",
    "        self.assertEqual(result, expectation)\n",
    "    def test_sayHello_error(self):\n",
    "        self.assertRaises(Exception, sayHello)\n",
    "\n",
    "if __name__ == \"__main__\":\n",
    "    unittest.main()\n"
   ]
  },
  {
   "cell_type": "markdown",
   "metadata": {},
   "source": [
    "### SQL QUERIES/DDL, DML, DCL"
   ]
  },
  {
   "cell_type": "markdown",
   "metadata": {},
   "source": [
    "DDL (Data defining Language/ Data control language) in pgadmin4"
   ]
  },
  {
   "cell_type": "code",
   "execution_count": null,
   "metadata": {
    "vscode": {
     "languageId": "sql"
    }
   },
   "outputs": [],
   "source": [
    "begin;\n",
    "\n",
    "create table \"product_categories\"(\n",
    "\tname varchar(10) primary key\n",
    ");\n",
    "\n",
    "create table if not exists products (\n",
    "\tid int primary key,\n",
    "\tname varchar not null,\n",
    "\tprice int,\n",
    "\tcategory varchar(10),\n",
    "\t-- step 2 define foreign key\n",
    "\tforeign key(category) references product_categories(name)\n",
    "\t\n",
    ");\n",
    "\n",
    "insert into product_categories (name) values ('household'), ('comercial'),('industrial');\n",
    "insert into products (id, name, price, category) values (1, 'soap', 2, 'household'), (2, 'bleach', 4, 'household'), (3, 'stove', 250, 'comercial'), (4, 'pipes', 40, 'industrial'), (5, 'cash_register', 200, 'comercial');\n",
    "\n",
    "commit;"
   ]
  },
  {
   "cell_type": "markdown",
   "metadata": {},
   "source": [
    "Queries in google big data"
   ]
  },
  {
   "cell_type": "code",
   "execution_count": null,
   "metadata": {
    "vscode": {
     "languageId": "sql"
    }
   },
   "outputs": [],
   "source": [
    "\n",
    "SELECT * \n",
    "FROM `sublime-iridium-400506.school.students`;\n",
    "\n",
    "select name from `sublime-iridium-400506.school.students`\n",
    "WHERE LOWER(name) LIKE '%r%';\n",
    "\n",
    "select *\n",
    "FROM `sublime-iridium-400506.school.students`  \n",
    "WHERE campus_id in (2,3);\n",
    "\n",
    "select name\n",
    "FROM `sublime-iridium-400506.school.students`\n",
    "WHERE campus_id in (2) and total_grade >90 and name like 'H%';\n",
    "-- % is like where it cares if its before of after %H% cares if its anywhere, %H cares if its at the end, H% cares if its at the start\n",
    "\n",
    "select distinct campus_id, name\n",
    "from `sublime-iridium-400506.school.students`;\n",
    "\n",
    "select avg(total_grade) as `average`\n",
    "from `sublime-iridium-400506.school.students`;\n",
    "\n",
    "select\n",
    "campus_id,\n",
    "avg(total_grade) as `average`\n",
    "from `sublime-iridium-400506.school.students`\n",
    "where campus_id in (1,2,3) #searches from the column headers (INDIVIDUAL ELEMENTS)\n",
    "group by campus_id\n",
    "having `average` > 90 #searches from the aggregrated values, so we ccan use aggregations (GROUP ELEMENTS)\n",
    "order by campus_id DESC;\n",
    "\n",
    "\n",
    "select\n",
    "b.campus_name as campus,\n",
    "avg(total_grade) as `average`\n",
    "from `sublime-iridium-400506.school.students` as a\n",
    "join `sublime-iridium-400506.school.campus` as b\n",
    "on a.campus_id = b.id \n",
    "where campus_id in (1,2,3) #searches from the column headers (INDIVIDUAL ELEMENTS)\n",
    "group by campus\n",
    "having `average` > 90 #searches from the aggregrated values, so we ccan use aggregations (GROUP ELEMENTS)\n",
    "order by campus DESC;\n",
    "\n",
    "\n",
    "SELECT * \n",
    "FROM `sublime-iridium-400506.school.students`;\n",
    "\n",
    "SELECT * \n",
    "FROM `sublime-iridium-400506.school.campus`;\n",
    "\n",
    "select name from `sublime-iridium-400506.school.students`\n",
    "WHERE LOWER(name) LIKE '%r%';\n",
    "\n",
    "select *\n",
    "FROM `sublime-iridium-400506.school.students`  \n",
    "WHERE campus_id in (2,3);\n",
    "\n",
    "select name\n",
    "FROM `sublime-iridium-400506.school.students`\n",
    "WHERE campus_id in (2) and total_grade >90 and name like 'H%';\n",
    "-- % is like where it cares if its before of after %H% cares if its anywhere, %H cares if its at the end, H% cares if its at the start\n",
    "\n",
    "select distinct campus_id, name\n",
    "from `sublime-iridium-400506.school.students`;\n",
    "\n",
    "select avg(total_grade) as `average`\n",
    "from `sublime-iridium-400506.school.students`;\n",
    "\n",
    "select\n",
    "campus_id,\n",
    "avg(total_grade) as `average`\n",
    "from `sublime-iridium-400506.school.students`\n",
    "group by campus_id;\n",
    "\n",
    "select\n",
    "b.campus_name as campus,\n",
    "avg(total_grade) as `average`\n",
    "from `sublime-iridium-400506.school.students` as a\n",
    "join `sublime-iridium-400506.school.campus` as b\n",
    "on a.campus_id = b.id \n",
    "group by campus\n",
    "order by campus DESC;\n",
    "\n",
    "-- right join, priotitizes all right databases to be visible, if left has the elements but right dsnt it dsnt show\n",
    "select *\n",
    "from `sublime-iridium-400506.school.students` as a\n",
    "right join `sublime-iridium-400506.school.campus` as b\n",
    "on a.campus_id = b.id;\n",
    "\n",
    "\n",
    "-- left join, priotitizes all right databases to be visible, if right has the elements but left dsnt it dsnt show\n",
    "select *\n",
    "from `sublime-iridium-400506.school.students` as a\n",
    "left join `sublime-iridium-400506.school.campus` as b\n",
    "on a.campus_id = b.id;\n",
    "\n",
    "-- full join\n",
    "select *\n",
    "from `sublime-iridium-400506.school.students` as a\n",
    "full join `sublime-iridium-400506.school.campus` as b\n",
    "on a.campus_id = b.id;\n"
   ]
  },
  {
   "cell_type": "code",
   "execution_count": null,
   "metadata": {
    "vscode": {
     "languageId": "sql"
    }
   },
   "outputs": [],
   "source": [
    "from google.colab import auth\n",
    "from google.cloud import bigquery\n",
    "import pandas as pd\n",
    "\n",
    "auth.authenticate_user()\n",
    "\n",
    "project_id = \"data-science-440809\" # change this with your project id\n",
    "client = bigquery.Client(project=project_id)\n",
    "\n",
    "'''\n",
    "put your sql query here, adjust the FROM clause with the following requirements\n",
    "- project_name: bigquery-public-data\n",
    "- dataset_name: austin_bikeshare\n",
    "- table_name: bikeshare_trips\n",
    "'''\n",
    "\n",
    "# query = \"\"\"\n",
    "# SELECT * FROM `bigquery-public-data.austin_bikeshare.bikeshare_trips`\n",
    "# \"\"\"\n",
    "\n",
    "query = \"\"\"\n",
    "SELECT COUNT(*) as table_count\n",
    "FROM `bigquery-public-data.austin_bikeshare.INFORMATION_SCHEMA.TABLES`;\n",
    "\"\"\"\n",
    "query2 = \"\"\"\n",
    "SELECT COUNT(*) as column_count \n",
    "FROM `bigquery-public-data.austin_bikeshare.INFORMATION_SCHEMA.COLUMNS`\n",
    "WHERE data_type = 'STRING' AND table_name = 'bikeshare_stations';\n",
    "\"\"\"\n",
    "\n",
    "# retrieve data from query and convert it into dataframe\n",
    "df = client.query(query).to_dataframe()\n",
    "df2 = client.query(query2).to_dataframe()\n",
    "# print the dataframe\n",
    "df\n",
    "df2"
   ]
  }
 ],
 "metadata": {
  "kernelspec": {
   "display_name": "base",
   "language": "python",
   "name": "python3"
  },
  "language_info": {
   "codemirror_mode": {
    "name": "ipython",
    "version": 3
   },
   "file_extension": ".py",
   "mimetype": "text/x-python",
   "name": "python",
   "nbconvert_exporter": "python",
   "pygments_lexer": "ipython3",
   "version": "3.12.3"
  }
 },
 "nbformat": 4,
 "nbformat_minor": 2
}
