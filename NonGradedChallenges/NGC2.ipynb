{
 "cells": [
  {
   "cell_type": "markdown",
   "metadata": {},
   "source": [
    "### Task 1\n"
   ]
  },
  {
   "cell_type": "code",
   "execution_count": null,
   "metadata": {},
   "outputs": [],
   "source": [
    "sentencein = input(\"what is your sentence? \")\n",
    "def number_of_word(sentence):\n",
    "    words = sentence.split(' ')\n",
    "    return len(words)\n",
    "\n",
    "print(number_of_word(sentencein))"
   ]
  },
  {
   "cell_type": "markdown",
   "metadata": {},
   "source": [
    "### Task 2\n"
   ]
  },
  {
   "cell_type": "code",
   "execution_count": null,
   "metadata": {},
   "outputs": [],
   "source": [
    "\n",
    "def find_multiple(start_range, end_range, multiple):\n",
    "    multiplearr = []\n",
    "    for i in range(start_range, end_range + 1):\n",
    "        if i%multiple == 0:\n",
    "            multiplearr.append(i)\n",
    "            continue\n",
    "        else:\n",
    "            continue\n",
    "    return multiplearr\n",
    "\n",
    "print(find_multiple(start_range= 1, end_range= 20, multiple= 5))\n",
    "print(find_multiple(start_range= 1, end_range= 50, multiple= 10))\n"
   ]
  },
  {
   "cell_type": "markdown",
   "metadata": {},
   "source": [
    "### Task 3\n",
    "\n"
   ]
  },
  {
   "cell_type": "code",
   "execution_count": null,
   "metadata": {},
   "outputs": [],
   "source": []
  }
 ],
 "metadata": {
  "language_info": {
   "name": "python"
  }
 },
 "nbformat": 4,
 "nbformat_minor": 2
}
