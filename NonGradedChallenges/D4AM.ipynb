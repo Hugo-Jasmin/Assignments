{
 "cells": [
  {
   "cell_type": "markdown",
   "metadata": {},
   "source": [
    "### Exercise 1"
   ]
  },
  {
   "cell_type": "code",
   "execution_count": null,
   "metadata": {},
   "outputs": [],
   "source": [
    "class BankAccount:\n",
    "    def __init__(self, account_number, balance, date_of_opening, customer_name):\n",
    "        self.account_number = account_number\n",
    "        self.balance = balance\n",
    "        self.date_of_opening = date_of_opening\n",
    "        self.customer_name = customer_name\n",
    "    def deposit(self):\n",
    "        while True:\n",
    "            try:\n",
    "                deposit_amount = float(input(\"how much would you like to input? \"))\n",
    "                self.balance += deposit_amount\n",
    "                print(f\"your current balance is now {self.balance}\")\n",
    "            except ValueError:\n",
    "                print(\"err\")\n",
    "    def withdraw(self):\n",
    "        while True:\n",
    "            try:\n",
    "                withdrawl_amount = float(input(\"how much would you like to withdraw? \"))\n",
    "                if withdrawl_amount > self.balance:\n",
    "                    print(\"you dont have funds\")\n",
    "                    continue\n",
    "                else:\n",
    "                    self.balance -= withdrawl_amount\n",
    "                    print(f\"your current balance is {self.balance}\")\n",
    "                    break\n",
    "            except ValueError:\n",
    "                print(\"err\")\n",
    "                continue\n",
    "    def check_balance(self):\n",
    "        print(f\"your current balance is {self.balance}\")\n",
    "while True:\n",
    "    try:\n",
    "        nameAsk = input(\"what is your name? \")\n",
    "        accountNumAsk = input(\"what is your account number? \")\n",
    "        balanceAsk= float(input(\"what is your current Balance? \"))\n",
    "        dopAsk = input(\"what is the date in which you opened this account? \")\n",
    "        customerAccount = BankAccount(account_number= accountNumAsk, balance= balanceAsk, date_of_opening= dopAsk, customer_name= nameAsk)\n",
    "        choice = int(input(\"\"\"what would you like to do? \n",
    "                           1. Deposit\n",
    "                           2. Withdraw\n",
    "                           3. Check Balance\n",
    "                           \"\"\"))\n",
    "        if choice == 1:\n",
    "            customerAccount.deposit()\n",
    "        elif choice == 2:\n",
    "            customerAccount.withdraw()\n",
    "        elif choice == 3:\n",
    "            customerAccount.check_balance()\n",
    "        else:\n",
    "            print(\"error\")\n",
    "        break\n",
    "    except ValueError:\n",
    "        print(\"wrong data type\")\n",
    "        continue"
   ]
  },
  {
   "cell_type": "markdown",
   "metadata": {},
   "source": [
    "### Exercise 2"
   ]
  },
  {
   "cell_type": "code",
   "execution_count": null,
   "metadata": {},
   "outputs": [],
   "source": [
    "class Employee:\n",
    "    def __init__(self, employeeid, employeename,employeesalary,employeedepartment):\n",
    "        self.emp_id = employeeid\n",
    "        self.emp_name = employeename\n",
    "        self.emp_salary = employeesalary\n",
    "        self.emp_department = employeedepartment\n",
    "    def calculate_emp_salary(self, hours_worked):\n",
    "            if hours_worked > 50:\n",
    "                Overtime = hours_worked - 50\n",
    "                OvertimeAmount = (Overtime * (self.emp_salary / 50))\n",
    "                return OvertimeAmount\n",
    "    def emp_assign_department(self, newDepartment):\n",
    "            self.emp_department = newDepartment\n",
    "            print(f\"employee {self.emp_name}, is now in department {self.emp_department}\")\n",
    "    def print_employee_details(self):\n",
    "            print(f\"{self.emp_name} , {self.emp_id} , {self.emp_salary} , {self.emp_department}\")\n",
    "    \n",
    "\n",
    "EmployeeDave = Employee(95102, \"Dave\", 29929, \"Research And Development\")\n",
    "print(EmployeeDave.calculate_emp_salary(72))\n",
    "EmployeeDave.emp_assign_department(\"Marketing\")\n",
    "EmployeeDave.print_employee_details()"
   ]
  }
 ],
 "metadata": {
  "language_info": {
   "name": "python"
  }
 },
 "nbformat": 4,
 "nbformat_minor": 2
}
